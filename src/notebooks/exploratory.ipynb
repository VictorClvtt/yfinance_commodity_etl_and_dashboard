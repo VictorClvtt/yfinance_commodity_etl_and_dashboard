{
 "cells": [
  {
   "cell_type": "code",
   "execution_count": 14,
   "id": "9416ea47",
   "metadata": {},
   "outputs": [],
   "source": [
    "import pandas as pd\n",
    "import streamlit as st\n",
    "from sqlalchemy import create_engine, text"
   ]
  },
  {
   "cell_type": "code",
   "execution_count": 11,
   "id": "3bf6b7dc",
   "metadata": {},
   "outputs": [
    {
     "name": "stdout",
     "output_type": "stream",
     "text": [
      "2025-08-15 21:08:05,264 INFO sqlalchemy.engine.Engine BEGIN (implicit)\n",
      "2025-08-15 21:08:05,265 INFO sqlalchemy.engine.Engine SELECT * FROM commodity\n",
      "2025-08-15 21:08:05,267 INFO sqlalchemy.engine.Engine [generated in 0.00230s] ()\n",
      "2025-08-15 21:08:05,271 INFO sqlalchemy.engine.Engine ROLLBACK\n"
     ]
    }
   ],
   "source": [
    "engine = create_engine('sqlite:///../../data/database/warehouse.db', echo=True)\n",
    "df = pd.read_sql(text(\"SELECT * FROM commodity\"), engine)"
   ]
  },
  {
   "cell_type": "code",
   "execution_count": 12,
   "id": "cce971d7",
   "metadata": {},
   "outputs": [
    {
     "data": {
      "application/vnd.microsoft.datawrangler.viewer.v0+json": {
       "columns": [
        {
         "name": "index",
         "rawType": "int64",
         "type": "integer"
        },
        {
         "name": "id",
         "rawType": "int64",
         "type": "integer"
        },
        {
         "name": "asset",
         "rawType": "object",
         "type": "string"
        },
        {
         "name": "price",
         "rawType": "float64",
         "type": "float"
        },
        {
         "name": "currency",
         "rawType": "object",
         "type": "string"
        },
        {
         "name": "collection_time",
         "rawType": "object",
         "type": "string"
        },
        {
         "name": "asset_name",
         "rawType": "object",
         "type": "string"
        },
        {
         "name": "category",
         "rawType": "object",
         "type": "string"
        },
        {
         "name": "_datetime",
         "rawType": "object",
         "type": "string"
        }
       ],
       "ref": "bc105c3c-6413-4eec-b13b-e384280606f8",
       "rows": [
        [
         "0",
         "1",
         "GC=F",
         "3381.699951171875",
         "USD",
         "2025-08-15 20:17:07.333851",
         "Gold",
         "Commodity",
         "2025-08-15 00:00:00.000000"
        ],
        [
         "1",
         "2",
         "CL=F",
         "63.13999938964844",
         "USD",
         "2025-08-15 20:17:07.585054",
         "Crude Oil",
         "Commodity",
         "2025-08-15 00:00:00.000000"
        ],
        [
         "2",
         "3",
         "SI=F",
         "38.02000045776367",
         "USD",
         "2025-08-15 20:17:07.763608",
         "Silver",
         "Commodity",
         "2025-08-15 00:00:00.000000"
        ],
        [
         "3",
         "4",
         "PL=F",
         "1345.199951171875",
         "USD",
         "2025-08-15 20:17:08.097722",
         "Platinum",
         "Commodity",
         "2025-08-15 00:00:00.000000"
        ],
        [
         "4",
         "5",
         "HG=F",
         "4.488999843597412",
         "USD",
         "2025-08-15 20:17:08.279123",
         "Copper",
         "Commodity",
         "2025-08-15 00:00:00.000000"
        ],
        [
         "5",
         "6",
         "NG=F",
         "2.9230000972747803",
         "USD",
         "2025-08-15 20:17:08.481477",
         "Natural Gas",
         "Commodity",
         "2025-08-15 00:00:00.000000"
        ],
        [
         "6",
         "7",
         "ZC=F",
         "405.75",
         "USD",
         "2025-08-15 20:17:08.677900",
         "Corn",
         "Commodity",
         "2025-08-15 00:00:00.000000"
        ],
        [
         "7",
         "8",
         "ZS=F",
         "1042.75",
         "USD",
         "2025-08-15 20:17:08.846103",
         "Soybeans",
         "Commodity",
         "2025-08-15 00:00:00.000000"
        ],
        [
         "8",
         "9",
         "KC=F",
         "336.1000061035156",
         "USD",
         "2025-08-15 20:17:09.013733",
         "Coffee",
         "Commodity",
         "2025-08-15 00:00:00.000000"
        ],
        [
         "9",
         "10",
         "CT=F",
         "66.05999755859375",
         "USD",
         "2025-08-15 20:17:09.199276",
         "Cotton",
         "Commodity",
         "2025-08-15 00:00:00.000000"
        ],
        [
         "10",
         "11",
         "^GSPC",
         "6450.1201171875",
         "USD",
         "2025-08-15 20:17:09.379402",
         "S&P 500",
         "Index",
         "2025-08-15 00:00:00.000000"
        ],
        [
         "11",
         "12",
         "^DJI",
         "44950.359375",
         "USD",
         "2025-08-15 20:17:09.887421",
         "Dow Jones",
         "Index",
         "2025-08-15 00:00:00.000000"
        ],
        [
         "12",
         "13",
         "^IXIC",
         "21621.708984375",
         "USD",
         "2025-08-15 20:17:10.060139",
         "Nasdaq",
         "Index",
         "2025-08-15 00:00:00.000000"
        ]
       ],
       "shape": {
        "columns": 8,
        "rows": 13
       }
      },
      "text/html": [
       "<div>\n",
       "<style scoped>\n",
       "    .dataframe tbody tr th:only-of-type {\n",
       "        vertical-align: middle;\n",
       "    }\n",
       "\n",
       "    .dataframe tbody tr th {\n",
       "        vertical-align: top;\n",
       "    }\n",
       "\n",
       "    .dataframe thead th {\n",
       "        text-align: right;\n",
       "    }\n",
       "</style>\n",
       "<table border=\"1\" class=\"dataframe\">\n",
       "  <thead>\n",
       "    <tr style=\"text-align: right;\">\n",
       "      <th></th>\n",
       "      <th>id</th>\n",
       "      <th>asset</th>\n",
       "      <th>price</th>\n",
       "      <th>currency</th>\n",
       "      <th>collection_time</th>\n",
       "      <th>asset_name</th>\n",
       "      <th>category</th>\n",
       "      <th>_datetime</th>\n",
       "    </tr>\n",
       "  </thead>\n",
       "  <tbody>\n",
       "    <tr>\n",
       "      <th>0</th>\n",
       "      <td>1</td>\n",
       "      <td>GC=F</td>\n",
       "      <td>3381.699951</td>\n",
       "      <td>USD</td>\n",
       "      <td>2025-08-15 20:17:07.333851</td>\n",
       "      <td>Gold</td>\n",
       "      <td>Commodity</td>\n",
       "      <td>2025-08-15 00:00:00.000000</td>\n",
       "    </tr>\n",
       "    <tr>\n",
       "      <th>1</th>\n",
       "      <td>2</td>\n",
       "      <td>CL=F</td>\n",
       "      <td>63.139999</td>\n",
       "      <td>USD</td>\n",
       "      <td>2025-08-15 20:17:07.585054</td>\n",
       "      <td>Crude Oil</td>\n",
       "      <td>Commodity</td>\n",
       "      <td>2025-08-15 00:00:00.000000</td>\n",
       "    </tr>\n",
       "    <tr>\n",
       "      <th>2</th>\n",
       "      <td>3</td>\n",
       "      <td>SI=F</td>\n",
       "      <td>38.020000</td>\n",
       "      <td>USD</td>\n",
       "      <td>2025-08-15 20:17:07.763608</td>\n",
       "      <td>Silver</td>\n",
       "      <td>Commodity</td>\n",
       "      <td>2025-08-15 00:00:00.000000</td>\n",
       "    </tr>\n",
       "    <tr>\n",
       "      <th>3</th>\n",
       "      <td>4</td>\n",
       "      <td>PL=F</td>\n",
       "      <td>1345.199951</td>\n",
       "      <td>USD</td>\n",
       "      <td>2025-08-15 20:17:08.097722</td>\n",
       "      <td>Platinum</td>\n",
       "      <td>Commodity</td>\n",
       "      <td>2025-08-15 00:00:00.000000</td>\n",
       "    </tr>\n",
       "    <tr>\n",
       "      <th>4</th>\n",
       "      <td>5</td>\n",
       "      <td>HG=F</td>\n",
       "      <td>4.489000</td>\n",
       "      <td>USD</td>\n",
       "      <td>2025-08-15 20:17:08.279123</td>\n",
       "      <td>Copper</td>\n",
       "      <td>Commodity</td>\n",
       "      <td>2025-08-15 00:00:00.000000</td>\n",
       "    </tr>\n",
       "    <tr>\n",
       "      <th>5</th>\n",
       "      <td>6</td>\n",
       "      <td>NG=F</td>\n",
       "      <td>2.923000</td>\n",
       "      <td>USD</td>\n",
       "      <td>2025-08-15 20:17:08.481477</td>\n",
       "      <td>Natural Gas</td>\n",
       "      <td>Commodity</td>\n",
       "      <td>2025-08-15 00:00:00.000000</td>\n",
       "    </tr>\n",
       "    <tr>\n",
       "      <th>6</th>\n",
       "      <td>7</td>\n",
       "      <td>ZC=F</td>\n",
       "      <td>405.750000</td>\n",
       "      <td>USD</td>\n",
       "      <td>2025-08-15 20:17:08.677900</td>\n",
       "      <td>Corn</td>\n",
       "      <td>Commodity</td>\n",
       "      <td>2025-08-15 00:00:00.000000</td>\n",
       "    </tr>\n",
       "    <tr>\n",
       "      <th>7</th>\n",
       "      <td>8</td>\n",
       "      <td>ZS=F</td>\n",
       "      <td>1042.750000</td>\n",
       "      <td>USD</td>\n",
       "      <td>2025-08-15 20:17:08.846103</td>\n",
       "      <td>Soybeans</td>\n",
       "      <td>Commodity</td>\n",
       "      <td>2025-08-15 00:00:00.000000</td>\n",
       "    </tr>\n",
       "    <tr>\n",
       "      <th>8</th>\n",
       "      <td>9</td>\n",
       "      <td>KC=F</td>\n",
       "      <td>336.100006</td>\n",
       "      <td>USD</td>\n",
       "      <td>2025-08-15 20:17:09.013733</td>\n",
       "      <td>Coffee</td>\n",
       "      <td>Commodity</td>\n",
       "      <td>2025-08-15 00:00:00.000000</td>\n",
       "    </tr>\n",
       "    <tr>\n",
       "      <th>9</th>\n",
       "      <td>10</td>\n",
       "      <td>CT=F</td>\n",
       "      <td>66.059998</td>\n",
       "      <td>USD</td>\n",
       "      <td>2025-08-15 20:17:09.199276</td>\n",
       "      <td>Cotton</td>\n",
       "      <td>Commodity</td>\n",
       "      <td>2025-08-15 00:00:00.000000</td>\n",
       "    </tr>\n",
       "    <tr>\n",
       "      <th>10</th>\n",
       "      <td>11</td>\n",
       "      <td>^GSPC</td>\n",
       "      <td>6450.120117</td>\n",
       "      <td>USD</td>\n",
       "      <td>2025-08-15 20:17:09.379402</td>\n",
       "      <td>S&amp;P 500</td>\n",
       "      <td>Index</td>\n",
       "      <td>2025-08-15 00:00:00.000000</td>\n",
       "    </tr>\n",
       "    <tr>\n",
       "      <th>11</th>\n",
       "      <td>12</td>\n",
       "      <td>^DJI</td>\n",
       "      <td>44950.359375</td>\n",
       "      <td>USD</td>\n",
       "      <td>2025-08-15 20:17:09.887421</td>\n",
       "      <td>Dow Jones</td>\n",
       "      <td>Index</td>\n",
       "      <td>2025-08-15 00:00:00.000000</td>\n",
       "    </tr>\n",
       "    <tr>\n",
       "      <th>12</th>\n",
       "      <td>13</td>\n",
       "      <td>^IXIC</td>\n",
       "      <td>21621.708984</td>\n",
       "      <td>USD</td>\n",
       "      <td>2025-08-15 20:17:10.060139</td>\n",
       "      <td>Nasdaq</td>\n",
       "      <td>Index</td>\n",
       "      <td>2025-08-15 00:00:00.000000</td>\n",
       "    </tr>\n",
       "  </tbody>\n",
       "</table>\n",
       "</div>"
      ],
      "text/plain": [
       "    id  asset         price currency             collection_time   asset_name  \\\n",
       "0    1   GC=F   3381.699951      USD  2025-08-15 20:17:07.333851         Gold   \n",
       "1    2   CL=F     63.139999      USD  2025-08-15 20:17:07.585054    Crude Oil   \n",
       "2    3   SI=F     38.020000      USD  2025-08-15 20:17:07.763608       Silver   \n",
       "3    4   PL=F   1345.199951      USD  2025-08-15 20:17:08.097722     Platinum   \n",
       "4    5   HG=F      4.489000      USD  2025-08-15 20:17:08.279123       Copper   \n",
       "5    6   NG=F      2.923000      USD  2025-08-15 20:17:08.481477  Natural Gas   \n",
       "6    7   ZC=F    405.750000      USD  2025-08-15 20:17:08.677900         Corn   \n",
       "7    8   ZS=F   1042.750000      USD  2025-08-15 20:17:08.846103     Soybeans   \n",
       "8    9   KC=F    336.100006      USD  2025-08-15 20:17:09.013733       Coffee   \n",
       "9   10   CT=F     66.059998      USD  2025-08-15 20:17:09.199276       Cotton   \n",
       "10  11  ^GSPC   6450.120117      USD  2025-08-15 20:17:09.379402      S&P 500   \n",
       "11  12   ^DJI  44950.359375      USD  2025-08-15 20:17:09.887421    Dow Jones   \n",
       "12  13  ^IXIC  21621.708984      USD  2025-08-15 20:17:10.060139       Nasdaq   \n",
       "\n",
       "     category                   _datetime  \n",
       "0   Commodity  2025-08-15 00:00:00.000000  \n",
       "1   Commodity  2025-08-15 00:00:00.000000  \n",
       "2   Commodity  2025-08-15 00:00:00.000000  \n",
       "3   Commodity  2025-08-15 00:00:00.000000  \n",
       "4   Commodity  2025-08-15 00:00:00.000000  \n",
       "5   Commodity  2025-08-15 00:00:00.000000  \n",
       "6   Commodity  2025-08-15 00:00:00.000000  \n",
       "7   Commodity  2025-08-15 00:00:00.000000  \n",
       "8   Commodity  2025-08-15 00:00:00.000000  \n",
       "9   Commodity  2025-08-15 00:00:00.000000  \n",
       "10      Index  2025-08-15 00:00:00.000000  \n",
       "11      Index  2025-08-15 00:00:00.000000  \n",
       "12      Index  2025-08-15 00:00:00.000000  "
      ]
     },
     "execution_count": 12,
     "metadata": {},
     "output_type": "execute_result"
    }
   ],
   "source": [
    "df"
   ]
  },
  {
   "cell_type": "code",
   "execution_count": 15,
   "id": "82b7f2e6",
   "metadata": {},
   "outputs": [
    {
     "name": "stderr",
     "output_type": "stream",
     "text": [
      "2025-08-15 21:11:27.735 WARNING streamlit.runtime.scriptrunner_utils.script_run_context: Thread 'MainThread': missing ScriptRunContext! This warning can be ignored when running in bare mode.\n",
      "2025-08-15 21:11:27.787 \n",
      "  \u001b[33m\u001b[1mWarning:\u001b[0m to view this Streamlit app on a browser, run it with the following\n",
      "  command:\n",
      "\n",
      "    streamlit run /home/victor/Documentos/Code/Python/Data_Engineering/yfinance_data_warehouse/venv/lib/python3.13/site-packages/ipykernel_launcher.py [ARGUMENTS]\n",
      "2025-08-15 21:11:27.787 Thread 'MainThread': missing ScriptRunContext! This warning can be ignored when running in bare mode.\n",
      "2025-08-15 21:11:27.788 Thread 'MainThread': missing ScriptRunContext! This warning can be ignored when running in bare mode.\n"
     ]
    },
    {
     "data": {
      "text/plain": [
       "DeltaGenerator()"
      ]
     },
     "execution_count": 15,
     "metadata": {},
     "output_type": "execute_result"
    }
   ],
   "source": [
    "st.title('📊 Pesquisa de Mercado - Notebooks no Mercado Livre')"
   ]
  }
 ],
 "metadata": {
  "kernelspec": {
   "display_name": "venv",
   "language": "python",
   "name": "python3"
  },
  "language_info": {
   "codemirror_mode": {
    "name": "ipython",
    "version": 3
   },
   "file_extension": ".py",
   "mimetype": "text/x-python",
   "name": "python",
   "nbconvert_exporter": "python",
   "pygments_lexer": "ipython3",
   "version": "3.13.5"
  }
 },
 "nbformat": 4,
 "nbformat_minor": 5
}
